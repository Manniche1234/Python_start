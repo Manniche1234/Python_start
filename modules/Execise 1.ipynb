{
 "cells": [
  {
   "cell_type": "markdown",
   "metadata": {},
   "source": [
    "Exercise\n",
    "Create 5 list comprehensions to solve the following 5 problems:\n",
    "\n",
    "1. Iterate a list of names to return a list of the names starting with H\n",
    "2. In one line create a list of the numbers 1-100 to the power of 3\n",
    "3. Iterate a list of names to create a list of tuples where the tuples first value is the length of the name and the second is the name\n",
    "4. Iterate over each character in a string and get only those that are nummeric\n",
    "5. Using only a list comprehension wrapped in set() get all possible combination from throwing 2 dice (hint use 2 for loops in a single list comprehension)\n",
    "\n",
    "Create 2 dictionary comprehensions to solve the following:\n",
    "\n",
    "1. Iterate a list of names and create a dictionary where key is the name and value is the length of the name\n",
    "2. Iterate a list of numbers and create a dictionary with {key:value} being {number:squareroot_of_number}\n",
    "\n",
    "Extra assignment (This one goes beyond what is covered in the course notebooks. So only do it if you want an extra challenge).\n",
    "\n",
    "Progammatically using loops create a small program to produce a dictionary with all the 2 dice throw combinations as keys (eg: 2,3,4...etc) and their likelyhood in percent as values"
   ]
  },
  {
   "cell_type": "code",
   "execution_count": 5,
   "metadata": {},
   "outputs": [
    {
     "data": {
      "text/plain": [
       "['Hans', 'Hansine', 'hasse']"
      ]
     },
     "execution_count": 5,
     "metadata": {},
     "output_type": "execute_result"
    }
   ],
   "source": [
    "#1. Iterate a list of names to return a list of the names starting with H\n",
    "list_of_names = [\"niller\",\"Søren\",\"Hans\",\"Hansine\",\"hasse\",\"August\"]\n",
    "first_letters = ['H','h']\n",
    "output_names = [name for name in list_of_names if (name[0] in first_letters)]\n",
    "output_names"
   ]
  },
  {
   "cell_type": "code",
   "execution_count": 10,
   "metadata": {},
   "outputs": [],
   "source": [
    "#2. In one line create a list of the numbers 1-100 to the power of 3\n",
    "numbers_list = [num**3 for num in range(1,101)]"
   ]
  },
  {
   "cell_type": "code",
   "execution_count": 50,
   "metadata": {},
   "outputs": [
    {
     "name": "stdout",
     "output_type": "stream",
     "text": [
      "[(4, 'hans'), (5, 'peter'), (5, 'jonas')]\n"
     ]
    }
   ],
   "source": [
    "#3. Iterate a list of names to create a list of tuples where the tuples first value is the length of the name and the second is the name\n",
    "my_list = [\"hans\",\"peter\",\"jonas\"]\n",
    "my_list_tuples = []\n",
    "\n",
    "for name in my_list:\n",
    "    my_list_tuples.append((len(name), name))\n",
    "\n",
    "print(my_list_tuples)"
   ]
  },
  {
   "cell_type": "code",
   "execution_count": 53,
   "metadata": {},
   "outputs": [
    {
     "name": "stdout",
     "output_type": "stream",
     "text": [
      "2\n",
      "4\n",
      "7\n"
     ]
    }
   ],
   "source": [
    "#4. Iterate over each character in a string and get only those that are nummeric\n",
    "my_nummeric_list = [\"hej\", 2,\"bent\", 4, 7]\n",
    "\n",
    "for number in my_nummeric_list:\n",
    "    if type(number) == int:\n",
    "        print(number)"
   ]
  },
  {
   "cell_type": "code",
   "execution_count": 1,
   "metadata": {},
   "outputs": [
    {
     "name": "stdout",
     "output_type": "stream",
     "text": [
      "{2, 3, 4, 5, 6, 7, 8, 9, 10, 11, 12}\n"
     ]
    }
   ],
   "source": [
    "# 5. Using only a list comprehension wrapped in set() get all possible combination from throwing 2 dice (hint use 2 for loops in a single list comprehension)\n",
    "\n",
    "dice_throw =[num+num2 for num in range(1,7) for num2 in range(1,7)]\n",
    "my_set = set(dice_throw)\n",
    "print(my_set)"
   ]
  },
  {
   "cell_type": "code",
   "execution_count": 6,
   "metadata": {},
   "outputs": [
    {
     "name": "stdout",
     "output_type": "stream",
     "text": [
      "{'Hans': 4, 'Peter': 5, 'bo': 2, 'Svend': 5}\n"
     ]
    }
   ],
   "source": [
    "# 1. Iterate a list of names and create a dictionary where key is the name and value is the length of the name\n",
    "list_of_names = [\"Hans\",\"Peter\",\"bo\",\"Svend\"]\n",
    "my_dictionary = {}\n",
    "\n",
    "for name in list_of_names:\n",
    "    my_dictionary[name] = len(name)\n",
    "    \n",
    "print(my_dictionary)"
   ]
  },
  {
   "cell_type": "code",
   "execution_count": 11,
   "metadata": {},
   "outputs": [
    {
     "name": "stdout",
     "output_type": "stream",
     "text": [
      "{1: 1.0, 2: 1.4142135623730951, 3: 1.7320508075688772, 4: 2.0, 5: 2.23606797749979, 6: 2.449489742783178, 7: 2.6457513110645907, 8: 2.8284271247461903, 9: 3.0}\n"
     ]
    }
   ],
   "source": [
    "# 2. Iterate a list of numbers and create a dictionary with {key:value} being {number:squareroot_of_number}\n",
    "import math\n",
    "\n",
    "list_numbers = [1,2,3,4,5,6,7,8,9]\n",
    "list_dictionary = {}\n",
    "\n",
    "for numbers in list_numbers:\n",
    "    list_dictionary[numbers] = math.sqrt(numbers)\n",
    "print(list_dictionary)"
   ]
  }
 ],
 "metadata": {
  "kernelspec": {
   "display_name": "Python 3",
   "language": "python",
   "name": "python3"
  },
  "language_info": {
   "codemirror_mode": {
    "name": "ipython",
    "version": 3
   },
   "file_extension": ".py",
   "mimetype": "text/x-python",
   "name": "python",
   "nbconvert_exporter": "python",
   "pygments_lexer": "ipython3",
   "version": "3.7.6"
  }
 },
 "nbformat": 4,
 "nbformat_minor": 4
}
